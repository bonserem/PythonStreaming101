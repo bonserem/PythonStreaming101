{
 "cells": [
  {
   "cell_type": "markdown",
   "metadata": {},
   "source": [
    "# installations"
   ]
  },
  {
   "cell_type": "code",
   "execution_count": null,
   "metadata": {},
   "outputs": [],
   "source": [
    "#%pip install schedule\n",
    "#%pip install requests"
   ]
  },
  {
   "cell_type": "markdown",
   "metadata": {},
   "source": [
    "# call the api\n",
    "and print the temperature once. added error handling for timeouts"
   ]
  },
  {
   "cell_type": "code",
   "execution_count": 11,
   "metadata": {},
   "outputs": [],
   "source": [
    "#imports\n",
    "import requests\n",
    "import time\n",
    "\n",
    "boxGTal = '593fc68947df4f001113f9eb'\n",
    "baseURLOpenSense ='https://api.opensensemap.org/boxes/'\n",
    "try:\n",
    "    resp = requests.get(baseURLOpenSense+boxGTal)\n",
    "    box = resp.json()\n",
    "except TimeoutError:\n",
    "    print('there was an timeout error')\n",
    "#except:\n",
    "#    print(\"Unexpected error:\")"
   ]
  },
  {
   "cell_type": "code",
   "execution_count": 12,
   "metadata": {},
   "outputs": [
    {
     "data": {
      "text/plain": [
       "'Freiburg im Breisgau'"
      ]
     },
     "execution_count": 12,
     "metadata": {},
     "output_type": "execute_result"
    }
   ],
   "source": [
    "box['name']"
   ]
  },
  {
   "cell_type": "code",
   "execution_count": 13,
   "metadata": {},
   "outputs": [
    {
     "name": "stdout",
     "output_type": "stream",
     "text": [
      "box \"Freiburg im Breisgau\" has id: 593fc68947df4f001113f9eb\n"
     ]
    }
   ],
   "source": [
    "print('box \"{boxname}\" has id: {id}'.format(id= box['_id'], boxname =box['name']))"
   ]
  },
  {
   "cell_type": "code",
   "execution_count": 14,
   "metadata": {},
   "outputs": [
    {
     "name": "stdout",
     "output_type": "stream",
     "text": [
      "2020-04-28T09:39:11.416Z temperature: 18.30 °C\n"
     ]
    }
   ],
   "source": [
    "#from datetime import datetime\n",
    "#import time\n",
    "\n",
    "for s in box['sensors']:\n",
    "    if s['title'] == \"Temperatur\":\n",
    "        #datetime.fromisoformat(s['lastMeasurement']['createdAt'])\n",
    "        print('{} temperature: {} {}'\n",
    "              .format(s['lastMeasurement']['createdAt'],\n",
    "                    s['lastMeasurement']['value'],\n",
    "                    s['unit']))"
   ]
  },
  {
   "cell_type": "markdown",
   "metadata": {},
   "source": [
    "# reading the temperature every minute \n",
    "print every new value and ignore double values"
   ]
  },
  {
   "cell_type": "code",
   "execution_count": 15,
   "metadata": {},
   "outputs": [
    {
     "name": "stdout",
     "output_type": "stream",
     "text": [
      "2020-04-28T09:39:11.416Z temperature: 18.30 °C\n",
      "2020-04-28T09:42:06.880Z temperature: 18.20 °C\n"
     ]
    },
    {
     "ename": "KeyboardInterrupt",
     "evalue": "",
     "output_type": "error",
     "traceback": [
      "\u001b[1;31m---------------------------------------------------------------------------\u001b[0m",
      "\u001b[1;31mKeyboardInterrupt\u001b[0m                         Traceback (most recent call last)",
      "\u001b[1;32m<ipython-input-15-8144e737ff5f>\u001b[0m in \u001b[0;36m<module>\u001b[1;34m\u001b[0m\n\u001b[0;32m     32\u001b[0m \u001b[1;32mwhile\u001b[0m \u001b[1;32mTrue\u001b[0m\u001b[1;33m:\u001b[0m\u001b[1;33m\u001b[0m\u001b[1;33m\u001b[0m\u001b[0m\n\u001b[0;32m     33\u001b[0m     \u001b[0mschedule\u001b[0m\u001b[1;33m.\u001b[0m\u001b[0mrun_pending\u001b[0m\u001b[1;33m(\u001b[0m\u001b[1;33m)\u001b[0m\u001b[1;33m\u001b[0m\u001b[1;33m\u001b[0m\u001b[0m\n\u001b[1;32m---> 34\u001b[1;33m     \u001b[0mtime\u001b[0m\u001b[1;33m.\u001b[0m\u001b[0msleep\u001b[0m\u001b[1;33m(\u001b[0m\u001b[1;36m1\u001b[0m\u001b[1;33m)\u001b[0m\u001b[1;33m\u001b[0m\u001b[1;33m\u001b[0m\u001b[0m\n\u001b[0m",
      "\u001b[1;31mKeyboardInterrupt\u001b[0m: "
     ]
    }
   ],
   "source": [
    "import schedule\n",
    "import time\n",
    "import requests\n",
    "\n",
    "boxGTal = '593fc68947df4f001113f9eb'\n",
    "baseURLOpenSense ='https://api.opensensemap.org/boxes/'\n",
    "\n",
    "lastone = \"\"\n",
    "def printTemperatureFromBox(s):\n",
    "    print('{} temperature: {} {}'\n",
    "              .format(s['lastMeasurement']['createdAt'],\n",
    "                         s['lastMeasurement']['value'],\n",
    "                         s['unit']))\n",
    "        \n",
    "def job():\n",
    "    global lastone\n",
    "    lastRead = lastone\n",
    "    resp = requests.get(baseURLOpenSense+boxGTal)\n",
    "    box = resp.json()\n",
    "    for s in box['sensors']:   \n",
    "        if s['title'] == \"Temperatur\":\n",
    "            if(not lastRead or (\n",
    "                lastRead['lastMeasurement']['createdAt'] != \n",
    "                s['lastMeasurement']['createdAt'])):\n",
    "                printTemperatureFromBox(s)\n",
    "                lastone = s     \n",
    "\n",
    "\n",
    "# schedule the job every minute  \n",
    "schedule.every(1).minutes.do(job)\n",
    "\n",
    "while True:\n",
    "    schedule.run_pending()\n",
    "    time.sleep(1)"
   ]
  },
  {
   "cell_type": "code",
   "execution_count": null,
   "metadata": {},
   "outputs": [],
   "source": []
  }
 ],
 "metadata": {
  "kernelspec": {
   "display_name": "Python 3",
   "language": "python",
   "name": "python3"
  },
  "language_info": {
   "codemirror_mode": {
    "name": "ipython",
    "version": 3
   },
   "file_extension": ".py",
   "mimetype": "text/x-python",
   "name": "python",
   "nbconvert_exporter": "python",
   "pygments_lexer": "ipython3",
   "version": "3.7.6"
  }
 },
 "nbformat": 4,
 "nbformat_minor": 4
}
